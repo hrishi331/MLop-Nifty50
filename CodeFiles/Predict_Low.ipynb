{
 "cells": [
  {
   "cell_type": "code",
   "execution_count": 12,
   "id": "6b77a4b0",
   "metadata": {},
   "outputs": [],
   "source": [
    "# Import packages\n",
    "import pandas as pd\n",
    "import numpy as np\n",
    "import seaborn as sns\n",
    "import matplotlib.pyplot as plt     \n",
    "import yfinance as yf\n",
    "import datetime \n",
    "from sklearn.tree import DecisionTreeRegressor\n",
    "from sklearn.ensemble import RandomForestRegressor\n",
    "from sklearn.linear_model import LinearRegression\n",
    "from sklearn.model_selection import train_test_split\n",
    "from sklearn.metrics import root_mean_squared_error\n",
    "from xgboost import XGBRegressor\n",
    "from lightgbm import LGBMRegressor\n",
    "import pickle\n"
   ]
  },
  {
   "cell_type": "code",
   "execution_count": 13,
   "id": "a4070cd6",
   "metadata": {},
   "outputs": [
    {
     "name": "stderr",
     "output_type": "stream",
     "text": [
      "[*********************100%***********************]  1 of 1 completed\n"
     ]
    },
    {
     "data": {
      "text/html": [
       "<div>\n",
       "<style scoped>\n",
       "    .dataframe tbody tr th:only-of-type {\n",
       "        vertical-align: middle;\n",
       "    }\n",
       "\n",
       "    .dataframe tbody tr th {\n",
       "        vertical-align: top;\n",
       "    }\n",
       "\n",
       "    .dataframe thead th {\n",
       "        text-align: right;\n",
       "    }\n",
       "</style>\n",
       "<table border=\"1\" class=\"dataframe\">\n",
       "  <thead>\n",
       "    <tr style=\"text-align: right;\">\n",
       "      <th></th>\n",
       "      <th>Close</th>\n",
       "      <th>High</th>\n",
       "      <th>Low</th>\n",
       "      <th>Open</th>\n",
       "    </tr>\n",
       "    <tr>\n",
       "      <th>Date</th>\n",
       "      <th></th>\n",
       "      <th></th>\n",
       "      <th></th>\n",
       "      <th></th>\n",
       "    </tr>\n",
       "  </thead>\n",
       "  <tbody>\n",
       "    <tr>\n",
       "      <th>2010-01-04</th>\n",
       "      <td>5232.200195</td>\n",
       "      <td>5238.450195</td>\n",
       "      <td>5167.100098</td>\n",
       "      <td>5200.899902</td>\n",
       "    </tr>\n",
       "    <tr>\n",
       "      <th>2010-01-05</th>\n",
       "      <td>5277.899902</td>\n",
       "      <td>5288.350098</td>\n",
       "      <td>5242.399902</td>\n",
       "      <td>5277.149902</td>\n",
       "    </tr>\n",
       "    <tr>\n",
       "      <th>2010-01-06</th>\n",
       "      <td>5281.799805</td>\n",
       "      <td>5310.850098</td>\n",
       "      <td>5260.049805</td>\n",
       "      <td>5278.149902</td>\n",
       "    </tr>\n",
       "    <tr>\n",
       "      <th>2010-01-07</th>\n",
       "      <td>5263.100098</td>\n",
       "      <td>5302.549805</td>\n",
       "      <td>5244.750000</td>\n",
       "      <td>5281.799805</td>\n",
       "    </tr>\n",
       "    <tr>\n",
       "      <th>2010-01-08</th>\n",
       "      <td>5244.750000</td>\n",
       "      <td>5276.750000</td>\n",
       "      <td>5234.700195</td>\n",
       "      <td>5264.250000</td>\n",
       "    </tr>\n",
       "    <tr>\n",
       "      <th>...</th>\n",
       "      <td>...</td>\n",
       "      <td>...</td>\n",
       "      <td>...</td>\n",
       "      <td>...</td>\n",
       "    </tr>\n",
       "    <tr>\n",
       "      <th>2025-07-24</th>\n",
       "      <td>25062.099609</td>\n",
       "      <td>25246.250000</td>\n",
       "      <td>25018.699219</td>\n",
       "      <td>25243.300781</td>\n",
       "    </tr>\n",
       "    <tr>\n",
       "      <th>2025-07-25</th>\n",
       "      <td>24837.000000</td>\n",
       "      <td>25010.349609</td>\n",
       "      <td>24806.349609</td>\n",
       "      <td>25010.349609</td>\n",
       "    </tr>\n",
       "    <tr>\n",
       "      <th>2025-07-28</th>\n",
       "      <td>24680.900391</td>\n",
       "      <td>24889.199219</td>\n",
       "      <td>24646.599609</td>\n",
       "      <td>24782.449219</td>\n",
       "    </tr>\n",
       "    <tr>\n",
       "      <th>2025-07-29</th>\n",
       "      <td>24821.099609</td>\n",
       "      <td>24847.150391</td>\n",
       "      <td>24598.599609</td>\n",
       "      <td>24609.650391</td>\n",
       "    </tr>\n",
       "    <tr>\n",
       "      <th>2025-07-30</th>\n",
       "      <td>24855.050781</td>\n",
       "      <td>24902.300781</td>\n",
       "      <td>24771.949219</td>\n",
       "      <td>24890.400391</td>\n",
       "    </tr>\n",
       "  </tbody>\n",
       "</table>\n",
       "<p>3825 rows × 4 columns</p>\n",
       "</div>"
      ],
      "text/plain": [
       "                   Close          High           Low          Open\n",
       "Date                                                              \n",
       "2010-01-04   5232.200195   5238.450195   5167.100098   5200.899902\n",
       "2010-01-05   5277.899902   5288.350098   5242.399902   5277.149902\n",
       "2010-01-06   5281.799805   5310.850098   5260.049805   5278.149902\n",
       "2010-01-07   5263.100098   5302.549805   5244.750000   5281.799805\n",
       "2010-01-08   5244.750000   5276.750000   5234.700195   5264.250000\n",
       "...                  ...           ...           ...           ...\n",
       "2025-07-24  25062.099609  25246.250000  25018.699219  25243.300781\n",
       "2025-07-25  24837.000000  25010.349609  24806.349609  25010.349609\n",
       "2025-07-28  24680.900391  24889.199219  24646.599609  24782.449219\n",
       "2025-07-29  24821.099609  24847.150391  24598.599609  24609.650391\n",
       "2025-07-30  24855.050781  24902.300781  24771.949219  24890.400391\n",
       "\n",
       "[3825 rows x 4 columns]"
      ]
     },
     "execution_count": 13,
     "metadata": {},
     "output_type": "execute_result"
    }
   ],
   "source": [
    "# import dataset\n",
    "start = datetime.date(year = 2010,month=1,day=1)\n",
    "end = datetime.date(year = 2025,month=7,day=31)\n",
    "\n",
    "df = yf.download(tickers='^NSEI' , start=start , end=end, auto_adjust=True)\n",
    "df.columns = ['Close','High','Low','Open','Volume']\n",
    "df = df.drop('Volume',axis=1)\n",
    "df"
   ]
  },
  {
   "cell_type": "code",
   "execution_count": 14,
   "id": "a86a6ac3",
   "metadata": {},
   "outputs": [
    {
     "data": {
      "text/html": [
       "<div>\n",
       "<style scoped>\n",
       "    .dataframe tbody tr th:only-of-type {\n",
       "        vertical-align: middle;\n",
       "    }\n",
       "\n",
       "    .dataframe tbody tr th {\n",
       "        vertical-align: top;\n",
       "    }\n",
       "\n",
       "    .dataframe thead th {\n",
       "        text-align: right;\n",
       "    }\n",
       "</style>\n",
       "<table border=\"1\" class=\"dataframe\">\n",
       "  <thead>\n",
       "    <tr style=\"text-align: right;\">\n",
       "      <th></th>\n",
       "      <th>Close_change</th>\n",
       "      <th>High_change</th>\n",
       "      <th>Low_change</th>\n",
       "      <th>Open_change</th>\n",
       "    </tr>\n",
       "    <tr>\n",
       "      <th>Date</th>\n",
       "      <th></th>\n",
       "      <th></th>\n",
       "      <th></th>\n",
       "      <th></th>\n",
       "    </tr>\n",
       "  </thead>\n",
       "  <tbody>\n",
       "    <tr>\n",
       "      <th>2010-01-05</th>\n",
       "      <td>0.87</td>\n",
       "      <td>0.94</td>\n",
       "      <td>1.44</td>\n",
       "      <td>1.44</td>\n",
       "    </tr>\n",
       "    <tr>\n",
       "      <th>2010-01-06</th>\n",
       "      <td>0.07</td>\n",
       "      <td>0.42</td>\n",
       "      <td>0.34</td>\n",
       "      <td>0.02</td>\n",
       "    </tr>\n",
       "    <tr>\n",
       "      <th>2010-01-07</th>\n",
       "      <td>-0.36</td>\n",
       "      <td>-0.16</td>\n",
       "      <td>-0.29</td>\n",
       "      <td>0.07</td>\n",
       "    </tr>\n",
       "    <tr>\n",
       "      <th>2010-01-08</th>\n",
       "      <td>-0.35</td>\n",
       "      <td>-0.49</td>\n",
       "      <td>-0.19</td>\n",
       "      <td>-0.33</td>\n",
       "    </tr>\n",
       "    <tr>\n",
       "      <th>2010-01-11</th>\n",
       "      <td>0.09</td>\n",
       "      <td>0.20</td>\n",
       "      <td>-0.13</td>\n",
       "      <td>-0.01</td>\n",
       "    </tr>\n",
       "    <tr>\n",
       "      <th>...</th>\n",
       "      <td>...</td>\n",
       "      <td>...</td>\n",
       "      <td>...</td>\n",
       "      <td>...</td>\n",
       "    </tr>\n",
       "    <tr>\n",
       "      <th>2025-07-24</th>\n",
       "      <td>-0.63</td>\n",
       "      <td>0.05</td>\n",
       "      <td>-0.27</td>\n",
       "      <td>0.41</td>\n",
       "    </tr>\n",
       "    <tr>\n",
       "      <th>2025-07-25</th>\n",
       "      <td>-0.91</td>\n",
       "      <td>-0.94</td>\n",
       "      <td>-0.86</td>\n",
       "      <td>-0.93</td>\n",
       "    </tr>\n",
       "    <tr>\n",
       "      <th>2025-07-28</th>\n",
       "      <td>-0.63</td>\n",
       "      <td>-0.49</td>\n",
       "      <td>-0.65</td>\n",
       "      <td>-0.92</td>\n",
       "    </tr>\n",
       "    <tr>\n",
       "      <th>2025-07-29</th>\n",
       "      <td>0.56</td>\n",
       "      <td>-0.17</td>\n",
       "      <td>-0.20</td>\n",
       "      <td>-0.70</td>\n",
       "    </tr>\n",
       "    <tr>\n",
       "      <th>2025-07-30</th>\n",
       "      <td>0.14</td>\n",
       "      <td>0.22</td>\n",
       "      <td>0.70</td>\n",
       "      <td>1.13</td>\n",
       "    </tr>\n",
       "  </tbody>\n",
       "</table>\n",
       "<p>3824 rows × 4 columns</p>\n",
       "</div>"
      ],
      "text/plain": [
       "            Close_change  High_change  Low_change  Open_change\n",
       "Date                                                          \n",
       "2010-01-05          0.87         0.94        1.44         1.44\n",
       "2010-01-06          0.07         0.42        0.34         0.02\n",
       "2010-01-07         -0.36        -0.16       -0.29         0.07\n",
       "2010-01-08         -0.35        -0.49       -0.19        -0.33\n",
       "2010-01-11          0.09         0.20       -0.13        -0.01\n",
       "...                  ...          ...         ...          ...\n",
       "2025-07-24         -0.63         0.05       -0.27         0.41\n",
       "2025-07-25         -0.91        -0.94       -0.86        -0.93\n",
       "2025-07-28         -0.63        -0.49       -0.65        -0.92\n",
       "2025-07-29          0.56        -0.17       -0.20        -0.70\n",
       "2025-07-30          0.14         0.22        0.70         1.13\n",
       "\n",
       "[3824 rows x 4 columns]"
      ]
     },
     "execution_count": 14,
     "metadata": {},
     "output_type": "execute_result"
    }
   ],
   "source": [
    "# Differencing \n",
    "for i in df.columns:\n",
    "    df[f'{i}_change'] = round(df[i].diff(1)/df[i]*100,2)\n",
    "\n",
    "df = df.drop(['Open','High','Low','Close'],axis=1)\n",
    "\n",
    "df = df.dropna()\n",
    "df\n",
    "    "
   ]
  },
  {
   "cell_type": "code",
   "execution_count": 15,
   "id": "752054a1",
   "metadata": {},
   "outputs": [
    {
     "data": {
      "text/html": [
       "<div>\n",
       "<style scoped>\n",
       "    .dataframe tbody tr th:only-of-type {\n",
       "        vertical-align: middle;\n",
       "    }\n",
       "\n",
       "    .dataframe tbody tr th {\n",
       "        vertical-align: top;\n",
       "    }\n",
       "\n",
       "    .dataframe thead th {\n",
       "        text-align: right;\n",
       "    }\n",
       "</style>\n",
       "<table border=\"1\" class=\"dataframe\">\n",
       "  <thead>\n",
       "    <tr style=\"text-align: right;\">\n",
       "      <th></th>\n",
       "      <th>Close_change</th>\n",
       "      <th>High_change</th>\n",
       "      <th>Low_change</th>\n",
       "      <th>Open_change</th>\n",
       "    </tr>\n",
       "  </thead>\n",
       "  <tbody>\n",
       "    <tr>\n",
       "      <th>Close_change</th>\n",
       "      <td>1.000000</td>\n",
       "      <td>0.690951</td>\n",
       "      <td>0.671896</td>\n",
       "      <td>0.298383</td>\n",
       "    </tr>\n",
       "    <tr>\n",
       "      <th>High_change</th>\n",
       "      <td>0.690951</td>\n",
       "      <td>1.000000</td>\n",
       "      <td>0.650280</td>\n",
       "      <td>0.725362</td>\n",
       "    </tr>\n",
       "    <tr>\n",
       "      <th>Low_change</th>\n",
       "      <td>0.671896</td>\n",
       "      <td>0.650280</td>\n",
       "      <td>1.000000</td>\n",
       "      <td>0.655197</td>\n",
       "    </tr>\n",
       "    <tr>\n",
       "      <th>Open_change</th>\n",
       "      <td>0.298383</td>\n",
       "      <td>0.725362</td>\n",
       "      <td>0.655197</td>\n",
       "      <td>1.000000</td>\n",
       "    </tr>\n",
       "  </tbody>\n",
       "</table>\n",
       "</div>"
      ],
      "text/plain": [
       "              Close_change  High_change  Low_change  Open_change\n",
       "Close_change      1.000000     0.690951    0.671896     0.298383\n",
       "High_change       0.690951     1.000000    0.650280     0.725362\n",
       "Low_change        0.671896     0.650280    1.000000     0.655197\n",
       "Open_change       0.298383     0.725362    0.655197     1.000000"
      ]
     },
     "execution_count": 15,
     "metadata": {},
     "output_type": "execute_result"
    }
   ],
   "source": [
    "# Correlation analysis\n",
    "df.corr()"
   ]
  },
  {
   "cell_type": "raw",
   "id": "755a2356",
   "metadata": {
    "vscode": {
     "languageId": "raw"
    }
   },
   "source": [
    "We will have prediction flow as follow : \n",
    "\n",
    "step 1. \n",
    "Predict :\n",
    "High_change\n",
    "\n",
    "from :\n",
    "Open_change\n",
    "\n",
    "-----------------\n",
    "\n",
    "step 2. \n",
    "Predict :\n",
    "Low_change\n",
    "\n",
    "from :\n",
    "Open_change\n",
    "\n",
    "-----------------\n",
    "\n",
    "step 3. \n",
    "Predict :\n",
    "Close_change\n",
    "\n",
    "from :\n",
    "High_change\n",
    "Open_change\n",
    "Low_change\n",
    "\n",
    "\n"
   ]
  },
  {
   "cell_type": "markdown",
   "id": "9ffe6f4c",
   "metadata": {},
   "source": [
    "# Step 1\n",
    "Predict High_change from Open_change"
   ]
  },
  {
   "cell_type": "code",
   "execution_count": 16,
   "id": "63c201e0",
   "metadata": {},
   "outputs": [],
   "source": [
    "X = pd.DataFrame(df['Low_change'])\n",
    "y = pd.DataFrame(df['High_change'])\n"
   ]
  },
  {
   "cell_type": "code",
   "execution_count": 17,
   "id": "a6995b5c",
   "metadata": {},
   "outputs": [],
   "source": [
    "# Train test split\n",
    "X_train, X_test, y_train, y_test = train_test_split(X, y, test_size=0.2, random_state=42)"
   ]
  },
  {
   "cell_type": "code",
   "execution_count": 18,
   "id": "f9de443f",
   "metadata": {},
   "outputs": [
    {
     "data": {
      "text/plain": [
       "0.6671396215259876"
      ]
     },
     "execution_count": 18,
     "metadata": {},
     "output_type": "execute_result"
    }
   ],
   "source": [
    "# modeling\n",
    "model = LinearRegression()\n",
    "model_name = 'Linear Regression'\n",
    "\n",
    "model.fit(X_train,y_train)\n",
    "\n",
    "y_pred = model.predict(X_test)\n",
    "rmse = root_mean_squared_error(y_test,y_pred)\n",
    "rmse"
   ]
  },
  {
   "cell_type": "code",
   "execution_count": 19,
   "id": "91208d0b",
   "metadata": {},
   "outputs": [
    {
     "data": {
      "text/plain": [
       "0.7236172122787464"
      ]
     },
     "execution_count": 19,
     "metadata": {},
     "output_type": "execute_result"
    }
   ],
   "source": [
    "# modeling\n",
    "model = DecisionTreeRegressor()\n",
    "model_name = 'Decision Tree Regressor'\n",
    "\n",
    "model.fit(X_train,y_train)\n",
    "\n",
    "y_pred = model.predict(X_test)\n",
    "rmse = root_mean_squared_error(y_test,y_pred)\n",
    "rmse"
   ]
  },
  {
   "cell_type": "code",
   "execution_count": 20,
   "id": "f2ffc2d8",
   "metadata": {},
   "outputs": [
    {
     "name": "stderr",
     "output_type": "stream",
     "text": [
      "/mnt/Work_3/Projects/venv/lib/python3.12/site-packages/sklearn/base.py:1365: DataConversionWarning: A column-vector y was passed when a 1d array was expected. Please change the shape of y to (n_samples,), for example using ravel().\n",
      "  return fit_method(estimator, *args, **kwargs)\n"
     ]
    },
    {
     "data": {
      "text/plain": [
       "0.6967568036226025"
      ]
     },
     "execution_count": 20,
     "metadata": {},
     "output_type": "execute_result"
    }
   ],
   "source": [
    "# modeling\n",
    "model = RandomForestRegressor()\n",
    "model_name = 'Random Forest Regressor'\n",
    "\n",
    "model.fit(X_train,y_train)\n",
    "\n",
    "y_pred = model.predict(X_test)\n",
    "rmse = root_mean_squared_error(y_test,y_pred)\n",
    "rmse"
   ]
  },
  {
   "cell_type": "code",
   "execution_count": 21,
   "id": "6d4b39c7",
   "metadata": {},
   "outputs": [
    {
     "data": {
      "text/plain": [
       "0.6544550061225891"
      ]
     },
     "execution_count": 21,
     "metadata": {},
     "output_type": "execute_result"
    }
   ],
   "source": [
    "# modeling\n",
    "model = XGBRegressor()\n",
    "model_name = 'XGBRegressor Regressor'\n",
    "\n",
    "model.fit(X_train,y_train)\n",
    "\n",
    "y_pred = model.predict(X_test)\n",
    "rmse = root_mean_squared_error(y_test,y_pred)\n",
    "rmse"
   ]
  },
  {
   "cell_type": "code",
   "execution_count": 22,
   "id": "fd6c58d6",
   "metadata": {},
   "outputs": [
    {
     "name": "stdout",
     "output_type": "stream",
     "text": [
      "[LightGBM] [Info] Auto-choosing col-wise multi-threading, the overhead of testing was 0.000039 seconds.\n",
      "You can set `force_col_wise=true` to remove the overhead.\n",
      "[LightGBM] [Info] Total Bins 255\n",
      "[LightGBM] [Info] Number of data points in the train set: 3059, number of used features: 1\n",
      "[LightGBM] [Info] Start training from score 0.031389\n"
     ]
    }
   ],
   "source": [
    "# modeling\n",
    "model = LGBMRegressor()\n",
    "model_name = 'LightGBM Regressor'\n",
    "\n",
    "model.fit(X_train,y_train)\n",
    "\n",
    "y_pred = model.predict(X_test)\n",
    "rmse = root_mean_squared_error(y_test,y_pred)\n",
    "rmse\n",
    "\n",
    "# This is with least RMSE hence we will use this model\n",
    "# Pickle this model\n",
    "with open(\"../models/pred_low.pkl\",\"wb\") as file:\n",
    "    pickle.dump(obj=model,file=file)"
   ]
  }
 ],
 "metadata": {
  "kernelspec": {
   "display_name": "venv (3.12.3)",
   "language": "python",
   "name": "python3"
  },
  "language_info": {
   "codemirror_mode": {
    "name": "ipython",
    "version": 3
   },
   "file_extension": ".py",
   "mimetype": "text/x-python",
   "name": "python",
   "nbconvert_exporter": "python",
   "pygments_lexer": "ipython3",
   "version": "3.12.3"
  }
 },
 "nbformat": 4,
 "nbformat_minor": 5
}
